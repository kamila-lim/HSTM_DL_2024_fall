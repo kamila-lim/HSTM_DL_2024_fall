{
  "nbformat": 4,
  "nbformat_minor": 0,
  "metadata": {
    "colab": {
      "provenance": []
    },
    "kernelspec": {
      "name": "python3",
      "display_name": "Python 3"
    },
    "language_info": {
      "name": "python"
    }
  },
  "cells": [
    {
      "cell_type": "code",
      "source": [
        "import argparse\n",
        "\n",
        "import numpy as np\n",
        "import pandas as pd\n",
        "import torch\n",
        "import torch.nn as nn\n",
        "import torch.optim as optim\n",
        "from sklearn.metrics import accuracy_score, confusion_matrix\n",
        "from torch.utils.data import DataLoader, Dataset\n",
        "from sklearn.metrics import accuracy_score, confusion_matrix\n",
        "from sklearn.preprocessing import StandardScaler"
      ],
      "metadata": {
        "id": "AONtFdKHfCST"
      },
      "execution_count": 111,
      "outputs": []
    },
    {
      "cell_type": "code",
      "source": [
        "from google.colab import drive\n",
        "drive.mount('/content/drive')"
      ],
      "metadata": {
        "colab": {
          "base_uri": "https://localhost:8080/"
        },
        "id": "qv4g2HftivKL",
        "outputId": "6d74e048-6ca9-46ed-92df-9bf2356713ed"
      },
      "execution_count": 112,
      "outputs": [
        {
          "output_type": "stream",
          "name": "stdout",
          "text": [
            "Drive already mounted at /content/drive; to attempt to forcibly remount, call drive.mount(\"/content/drive\", force_remount=True).\n"
          ]
        }
      ]
    },
    {
      "cell_type": "code",
      "source": [
        "def load_data(train_csv, val_csv, test_csv):\n",
        "    # Загрузка данных\n",
        "    train_data = pd.read_csv('/content/drive/MyDrive/ML_2024/hw_1/train.csv')\n",
        "    val_data = pd.read_csv('/content/drive/MyDrive/ML_2024/hw_1/val.csv')\n",
        "    test_data = pd.read_csv('/content/drive/MyDrive/ML_2024/hw_1/test.csv')\n",
        "\n",
        "    # Опредение признаков и целевой переменной\n",
        "    features = [col for col in train_data.columns if col.startswith('y')]\n",
        "    target = 'order0'\n",
        "\n",
        "    X_train = train_data[features].values\n",
        "    y_train = train_data[target].values\n",
        "    X_val = val_data[features].values\n",
        "    y_val = val_data[target].values\n",
        "    X_test = test_data[features].values\n",
        "\n",
        "    # Нормализация данных\n",
        "    scaler = StandardScaler()\n",
        "    X_train = scaler.fit_transform(X_train)\n",
        "    X_val = scaler.transform(X_val)\n",
        "    X_test = scaler.transform(X_test)\n",
        "\n",
        "    return X_train, y_train, X_val, y_val, X_test\n"
      ],
      "metadata": {
        "id": "lUIxQfK6e__2"
      },
      "execution_count": 113,
      "outputs": []
    },
    {
      "cell_type": "code",
      "source": [
        "# Создание PyTorch Dataset\n",
        "class StarDataset(Dataset):\n",
        "    def __init__(self, features, targets=None):\n",
        "        self.features = torch.tensor(features, dtype=torch.float32)\n",
        "        self.targets = torch.tensor(targets, dtype=torch.long) if targets is not None else None\n",
        "\n",
        "    def __len__(self):\n",
        "        return len(self.features)\n",
        "\n",
        "    def __getitem__(self, idx):\n",
        "        if self.targets is not None:\n",
        "            return self.features[idx], self.targets[idx]\n",
        "        return self.features[idx]\n"
      ],
      "metadata": {
        "id": "jgv_cXUJkclS"
      },
      "execution_count": 114,
      "outputs": []
    },
    {
      "cell_type": "code",
      "source": [
        "# Построение модели\n",
        "class MLP(nn.Module):\n",
        "    def __init__(self, input_size, num_classes):\n",
        "        super(MLP, self).__init__()\n",
        "        self.model = nn.Sequential(\n",
        "            nn.Linear(input_size, 128),\n",
        "            nn.ReLU(),\n",
        "            nn.Linear(128, 64),\n",
        "            nn.ReLU(),\n",
        "            nn.Linear(64, num_classes)\n",
        "        )\n",
        "\n",
        "    def forward(self, x):\n",
        "        return self.model(x)"
      ],
      "metadata": {
        "id": "Xd-bTPBsjqMb"
      },
      "execution_count": 115,
      "outputs": []
    },
    {
      "cell_type": "code",
      "source": [
        "def init_model(input_size, lr):\n",
        "    model = MLP(input_size, num_classes=3)\n",
        "    criterion = nn.CrossEntropyLoss()\n",
        "    optimizer = optim.Adam(model.parameters(), lr=lr)\n",
        "    return model, criterion, optimizer\n"
      ],
      "metadata": {
        "id": "FeU2ReKBfILY"
      },
      "execution_count": 116,
      "outputs": []
    },
    {
      "cell_type": "code",
      "source": [
        "def evaluate(model, X, y):\n",
        "    model.eval()\n",
        "    dataset = StarDataset(X, y)\n",
        "    loader = DataLoader(dataset, batch_size=64, shuffle=False)\n",
        "\n",
        "    predictions = []\n",
        "    targets = []\n",
        "    with torch.no_grad():\n",
        "        for X_batch, y_batch in loader:\n",
        "            outputs = model(X_batch)\n",
        "            preds = torch.argmax(outputs, dim=1).numpy()\n",
        "            predictions.extend(preds)\n",
        "            targets.extend(y_batch.numpy())\n",
        "\n",
        "    accuracy = accuracy_score(targets, predictions)\n",
        "    conf_matrix = confusion_matrix(targets, predictions)\n",
        "    return predictions, accuracy, conf_matrix"
      ],
      "metadata": {
        "id": "GT3nLsFTfJSh"
      },
      "execution_count": 117,
      "outputs": []
    },
    {
      "cell_type": "code",
      "source": [
        "# Обучение модели\n",
        "def train(model, criterion, optimizer, X_train, y_train, X_val, y_val, epochs, batch_size):\n",
        "    train_dataset = StarDataset(X_train, y_train)\n",
        "    train_loader = DataLoader(train_dataset, batch_size=batch_size, shuffle=True)\n",
        "\n",
        "    val_dataset = StarDataset(X_val, y_val)\n",
        "    val_loader = DataLoader(val_dataset, batch_size=batch_size, shuffle=False)\n",
        "\n",
        "    for epoch in range(epochs):\n",
        "        model.train()\n",
        "        train_loss = 0\n",
        "        for X_batch, y_batch in train_loader:\n",
        "            optimizer.zero_grad()\n",
        "            outputs = model(X_batch)\n",
        "            loss = criterion(outputs, y_batch)\n",
        "            loss.backward()\n",
        "            optimizer.step()\n",
        "            train_loss += loss.item()\n",
        "\n",
        "        val_preds, val_acc, _ = evaluate(model, X_val, y_val)\n",
        "        print(f\"Epoch {epoch + 1}/{epochs},\"\n",
        "              f\"val accuracy: {val_acc:.4f}\")\n",
        "\n",
        "    return model"
      ],
      "metadata": {
        "id": "GM7cU0C0fNFy"
      },
      "execution_count": 118,
      "outputs": []
    },
    {
      "cell_type": "code",
      "source": [
        "def main(args):\n",
        "\n",
        "    X_train, y_train, X_val, y_val, X_test = load_data(args.train_csv, args.val_csv, args.test_csv)\n",
        "\n",
        "    input_size = X_train.shape[1]\n",
        "    model, criterion, optimizer = init_model(input_size, args.lr)\n",
        "\n",
        "    model = train(model, criterion, optimizer, X_train, y_train, X_val, y_val, args.num_epoches, args.batch_size)\n",
        "\n",
        "    model.eval()\n",
        "    test_dataset = StarDataset(X_test)\n",
        "    test_loader = DataLoader(test_dataset, batch_size=args.batch_size, shuffle=False)\n",
        "\n",
        "    test_predictions = []\n",
        "    with torch.no_grad():\n",
        "        for X_batch in test_loader:\n",
        "            outputs = model(X_batch)\n",
        "            preds = torch.argmax(outputs, dim=1).numpy()\n",
        "            test_predictions.extend(preds)\n",
        "\n",
        "    # Save predictions\n",
        "    submission = pd.DataFrame({'target': test_predictions})\n",
        "    submission.to_csv(args.out_csv, index=False)\n",
        "    print(f\"Predictions saved to {args.out_csv}\")"
      ],
      "metadata": {
        "id": "hSUB2s9rfQ9S"
      },
      "execution_count": 119,
      "outputs": []
    },
    {
      "cell_type": "code",
      "execution_count": 120,
      "metadata": {
        "colab": {
          "base_uri": "https://localhost:8080/"
        },
        "id": "kdn_pfHWe0v-",
        "outputId": "14a5e5dc-b1ac-41ef-925f-97eefceb43d9"
      },
      "outputs": [
        {
          "output_type": "stream",
          "name": "stdout",
          "text": [
            "Epoch 1/10,val accuracy: 0.7171\n",
            "Epoch 2/10,val accuracy: 0.7425\n",
            "Epoch 3/10,val accuracy: 0.7913\n",
            "Epoch 4/10,val accuracy: 0.7975\n",
            "Epoch 5/10,val accuracy: 0.8062\n",
            "Epoch 6/10,val accuracy: 0.8093\n",
            "Epoch 7/10,val accuracy: 0.8137\n",
            "Epoch 8/10,val accuracy: 0.8140\n",
            "Epoch 9/10,val accuracy: 0.8195\n",
            "Epoch 10/10,val accuracy: 0.8268\n",
            "Predictions saved to /content/drive/MyDrive/ML_2024/hw_1/submission.csv\n"
          ]
        }
      ],
      "source": [
        "\n",
        "if __name__ == '__main__':\n",
        "\n",
        "\n",
        "    parser = argparse.ArgumentParser()\n",
        "\n",
        "    # Определяем аргументы\n",
        "    parser.add_argument('--train_csv', default='/content/drive/MyDrive/ML_2024/hw_1/train.csv')\n",
        "    parser.add_argument('--val_csv', default='/content/drive/MyDrive/ML_2024/hw_1/val.csv')\n",
        "    parser.add_argument('--test_csv', default='/content/drive/MyDrive/ML_2024/hw_1/test.csv')\n",
        "    parser.add_argument('--out_csv', default='/content/drive/MyDrive/ML_2024/hw_1/submission.csv')\n",
        "    parser.add_argument('--lr', type=float, default=0.001)\n",
        "    parser.add_argument('--batch_size', type=int, default=1024)\n",
        "    parser.add_argument('--num_epoches', type=int, default=10)\n",
        "\n",
        "    # Парсим аргументы\n",
        "    args = parser.parse_args()\n",
        "    main(args)"
      ]
    }
  ]
}